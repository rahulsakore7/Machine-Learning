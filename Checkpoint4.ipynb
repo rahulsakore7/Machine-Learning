{
 "cells": [
  {
   "cell_type": "code",
   "execution_count": 13,
   "metadata": {
    "collapsed": true
   },
   "outputs": [],
   "source": [
    "import pandas as pd\n",
    "from pandas import DataFrame, Series\n",
    "import numpy as np\n",
    "import matplotlib.pyplot as plt\n",
    "import datetime\n",
    "import random\n",
    "from sklearn.feature_extraction.text import TfidfVectorizer,CountVectorizer\n",
    "from sklearn.preprocessing import StandardScaler\n",
    "%matplotlib inline"
   ]
  },
  {
   "cell_type": "code",
   "execution_count": 14,
   "metadata": {
    "collapsed": false
   },
   "outputs": [
    {
     "name": "stdout",
     "output_type": "stream",
     "text": [
      "<class 'pandas.core.frame.DataFrame'>\n",
      "RangeIndex: 555957 entries, 0 to 555956\n",
      "Data columns (total 18 columns):\n",
      "date_received                   555957 non-null object\n",
      "product                         555957 non-null object\n",
      "sub_product                     397635 non-null object\n",
      "issue                           555957 non-null object\n",
      "sub_issue                       212622 non-null object\n",
      "consumer_complaint_narrative    66806 non-null object\n",
      "company_public_response         85124 non-null object\n",
      "company                         555957 non-null object\n",
      "state                           551070 non-null object\n",
      "zipcode                         551452 non-null object\n",
      "tags                            77959 non-null object\n",
      "consumer_consent_provided       123458 non-null object\n",
      "submitted_via                   555957 non-null object\n",
      "date_sent_to_company            555957 non-null object\n",
      "company_response_to_consumer    555957 non-null object\n",
      "timely_response                 555957 non-null object\n",
      "consumer_disputed?              555957 non-null object\n",
      "complaint_id                    555957 non-null int64\n",
      "dtypes: int64(1), object(17)\n",
      "memory usage: 76.3+ MB\n"
     ]
    }
   ],
   "source": [
    "df = pd.read_csv('consumer_complaints.csv')\n",
    "\n",
    "df.info()\n",
    "\n"
   ]
  },
  {
   "cell_type": "code",
   "execution_count": 15,
   "metadata": {
    "collapsed": false
   },
   "outputs": [
    {
     "data": {
      "text/plain": [
       "Yes    541909\n",
       "No      14048\n",
       "Name: timely_response, dtype: int64"
      ]
     },
     "execution_count": 15,
     "metadata": {},
     "output_type": "execute_result"
    }
   ],
   "source": [
    "df['company_response_to_consumer'].value_counts(dropna=False)\n",
    "\n",
    "df['date_received'].max()\n",
    " \n",
    "df['date_received'].min()\n",
    "  \n",
    "df['timely_response'].value_counts(dropna=False) "
   ]
  },
  {
   "cell_type": "code",
   "execution_count": 16,
   "metadata": {
    "collapsed": false
   },
   "outputs": [
    {
     "data": {
      "text/plain": [
       "No     443823\n",
       "Yes    112134\n",
       "Name: consumer_disputed?, dtype: int64"
      ]
     },
     "execution_count": 16,
     "metadata": {},
     "output_type": "execute_result"
    }
   ],
   "source": [
    "df['consumer_disputed?'].value_counts(dropna=False)"
   ]
  },
  {
   "cell_type": "code",
   "execution_count": 17,
   "metadata": {
    "collapsed": true
   },
   "outputs": [],
   "source": [
    "company_complaitns_counts = df['company'].value_counts()\n",
    "df['company_complaint_counts'] = df['company'].apply(lambda x: company_complaitns_counts[x])\n",
    "\n",
    "company = pd.crosstab(df['company'], df['consumer_disputed?'])"
   ]
  },
  {
   "cell_type": "code",
   "execution_count": 18,
   "metadata": {
    "collapsed": false
   },
   "outputs": [
    {
     "data": {
      "text/html": [
       "<div>\n",
       "<table border=\"1\" class=\"dataframe\">\n",
       "  <thead>\n",
       "    <tr style=\"text-align: right;\">\n",
       "      <th>consumer_disputed?</th>\n",
       "      <th>No</th>\n",
       "      <th>Yes</th>\n",
       "    </tr>\n",
       "    <tr>\n",
       "      <th>company</th>\n",
       "      <th></th>\n",
       "      <th></th>\n",
       "    </tr>\n",
       "  </thead>\n",
       "  <tbody>\n",
       "    <tr>\n",
       "      <th>(Former)Shapiro, Swertfeger &amp; Hasty, LLP</th>\n",
       "      <td>4</td>\n",
       "      <td>0</td>\n",
       "    </tr>\n",
       "    <tr>\n",
       "      <th>1st 2nd Mortgage Company Of NJ, Inc.</th>\n",
       "      <td>1</td>\n",
       "      <td>0</td>\n",
       "    </tr>\n",
       "    <tr>\n",
       "      <th>1st Alliance Lending</th>\n",
       "      <td>11</td>\n",
       "      <td>2</td>\n",
       "    </tr>\n",
       "    <tr>\n",
       "      <th>1st Capital Finance of South Carolina, Inc.</th>\n",
       "      <td>1</td>\n",
       "      <td>0</td>\n",
       "    </tr>\n",
       "    <tr>\n",
       "      <th>1st Capital Mortgage, LLC</th>\n",
       "      <td>0</td>\n",
       "      <td>1</td>\n",
       "    </tr>\n",
       "  </tbody>\n",
       "</table>\n",
       "</div>"
      ],
      "text/plain": [
       "consumer_disputed?                           No  Yes\n",
       "company                                             \n",
       "(Former)Shapiro, Swertfeger & Hasty, LLP      4    0\n",
       "1st 2nd Mortgage Company Of NJ, Inc.          1    0\n",
       "1st Alliance Lending                         11    2\n",
       "1st Capital Finance of South Carolina, Inc.   1    0\n",
       "1st Capital Mortgage, LLC                     0    1"
      ]
     },
     "execution_count": 18,
     "metadata": {},
     "output_type": "execute_result"
    }
   ],
   "source": [
    "company.head()"
   ]
  },
  {
   "cell_type": "code",
   "execution_count": 19,
   "metadata": {
    "collapsed": true
   },
   "outputs": [],
   "source": [
    "company['dispute_rate'] = company.Yes / (company.Yes + company.No)\n",
    "company['company'] = company.index\n",
    "company['complaint_counts'] = company['company'].apply(lambda x: company_complaitns_counts[x])\n",
    "company = company.sort_values('complaint_counts', ascending=False)"
   ]
  },
  {
   "cell_type": "code",
   "execution_count": 20,
   "metadata": {
    "collapsed": false
   },
   "outputs": [
    {
     "data": {
      "image/png": "[encoded data removed]",
      "text/plain": [
       "<matplotlib.figure.Figure at 0x1357aa650>"
      ]
     },
     "metadata": {},
     "output_type": "display_data"
    }
   ],
   "source": [
    "company\n",
    "fig = plt.figure(figsize=(16,6))\n",
    "plt.plot(company['complaint_counts'],company['dispute_rate'],marker='o')\n",
    "plt.xlim([0.0, 56000])\n",
    "plt.ylim([0.0, 0.8])\n",
    "plt.xlabel('company complaint counts')\n",
    "plt.ylabel('complaint dispute rate')\n",
    "plt.title('')\n",
    "font = {'family' : 'normal',\n",
    "        'weight' : 'bold',\n",
    "        'size'   : 22}\n",
    "plt.rcParams.update({'font.size': 18})\n",
    "\n",
    "plt.show()"
   ]
  },
  {
   "cell_type": "code",
   "execution_count": 21,
   "metadata": {
    "collapsed": false
   },
   "outputs": [
    {
     "data": {
      "text/plain": [
       "<matplotlib.axes._subplots.AxesSubplot at 0x11b206c90>"
      ]
     },
     "execution_count": 21,
     "metadata": {},
     "output_type": "execute_result"
    },
    {
     "data": {
      "image/png": "[encoded data removed]",
      "text/plain": [
       "<matplotlib.figure.Figure at 0x1357a9f50>"
      ]
     },
     "metadata": {},
     "output_type": "display_data"
    }
   ],
   "source": [
    "temp= pd.crosstab(df['product'], df['consumer_disputed?'])\n",
    "temp.plot(kind='bar',figsize=(8,6))"
   ]
  },
  {
   "cell_type": "code",
   "execution_count": 22,
   "metadata": {
    "collapsed": false
   },
   "outputs": [
    {
     "data": {
      "text/plain": [
       "<matplotlib.axes._subplots.AxesSubplot at 0x117977190>"
      ]
     },
     "execution_count": 22,
     "metadata": {},
     "output_type": "execute_result"
    },
    {
     "data": {
      "image/png": "[encoded data removed]",
      "text/plain": [
       "<matplotlib.figure.Figure at 0x117630c50>"
      ]
     },
     "metadata": {},
     "output_type": "display_data"
    }
   ],
   "source": [
    "temp1= pd.crosstab(df['company_response_to_consumer'], df['consumer_disputed?'])\n",
    "temp1.plot(kind='bar',figsize=(8,6))"
   ]
  },
  {
   "cell_type": "code",
   "execution_count": 23,
   "metadata": {
    "collapsed": false
   },
   "outputs": [
    {
     "data": {
      "text/plain": [
       "(321217, 19)"
      ]
     },
     "execution_count": 23,
     "metadata": {},
     "output_type": "execute_result"
    }
   ],
   "source": [
    "df['state'].value_counts().shape\n",
    "\n",
    "df['date_received']=pd.DatetimeIndex(df['date_received'],format='%m/%d/%Y').date\n",
    "df['date_sent_to_company']=pd.DatetimeIndex(df['date_sent_to_company'],format='%m/%d/%Y').date\n",
    "df[df['date_received']!=df['date_sent_to_company']].shape\n",
    "####(321217, 19)"
   ]
  },
  {
   "cell_type": "code",
   "execution_count": 24,
   "metadata": {
    "collapsed": false
   },
   "outputs": [
    {
     "name": "stdout",
     "output_type": "stream",
     "text": [
      "<class 'pandas.core.frame.DataFrame'>\n",
      "RangeIndex: 555957 entries, 0 to 555956\n",
      "Data columns (total 19 columns):\n",
      "date_received                   555957 non-null object\n",
      "product                         555957 non-null object\n",
      "sub_product                     555957 non-null object\n",
      "issue                           555957 non-null object\n",
      "sub_issue                       212622 non-null object\n",
      "consumer_complaint_narrative    66806 non-null object\n",
      "company_public_response         85124 non-null object\n",
      "company                         555957 non-null object\n",
      "state                           551070 non-null object\n",
      "zipcode                         551452 non-null object\n",
      "tags                            77959 non-null object\n",
      "consumer_consent_provided       123458 non-null object\n",
      "submitted_via                   555957 non-null object\n",
      "date_sent_to_company            555957 non-null object\n",
      "company_response_to_consumer    555957 non-null object\n",
      "timely_response                 555957 non-null object\n",
      "consumer_disputed?              555957 non-null object\n",
      "complaint_id                    555957 non-null int64\n",
      "company_complaint_counts        555957 non-null int64\n",
      "dtypes: int64(2), object(17)\n",
      "memory usage: 80.6+ MB\n"
     ]
    }
   ],
   "source": [
    "df[pd.isnull(df['issue'])]\n",
    "\n",
    "df['sub_product'].fillna('Not Provided',inplace=True)\n",
    "df.info()\n",
    "df['sub_issue'].fillna('Not Provided',inplace=True)\n",
    "df['consumer_complaint_narrative'].fillna('None or Not Provided',inplace=True)"
   ]
  },
  {
   "cell_type": "code",
   "execution_count": 25,
   "metadata": {
    "collapsed": true
   },
   "outputs": [],
   "source": [
    "df['company_public_response'].fillna('Company chooses not to provide',inplace=True)"
   ]
  },
  {
   "cell_type": "code",
   "execution_count": 26,
   "metadata": {
    "collapsed": true
   },
   "outputs": [],
   "source": [
    "df['tags'].fillna('Unknown',inplace=True)"
   ]
  },
  {
   "cell_type": "code",
   "execution_count": 27,
   "metadata": {
    "collapsed": true
   },
   "outputs": [],
   "source": [
    "df['submitted_via'].fillna('Other',inplace=True)"
   ]
  },
  {
   "cell_type": "code",
   "execution_count": 28,
   "metadata": {
    "collapsed": false
   },
   "outputs": [
    {
     "data": {
      "text/plain": [
       "No     443823\n",
       "Yes    112134\n",
       "Name: consumer_disputed?, dtype: int64"
      ]
     },
     "execution_count": 28,
     "metadata": {},
     "output_type": "execute_result"
    }
   ],
   "source": [
    "df['consumer_consent_provided'].fillna('Consent not provided',inplace=True) \n",
    "df['consumer_consent_provided']=df['consumer_consent_provided'].apply(lambda x: \n",
    "            'Consent not provided' if x=='Other' or x=='Consent withdrawn' else x)\n",
    "df['consumer_consent_provided'].value_counts()\n",
    "df['consumer_disputed?'].value_counts()"
   ]
  },
  {
   "cell_type": "code",
   "execution_count": 29,
   "metadata": {
    "collapsed": true
   },
   "outputs": [],
   "source": [
    "from pyzipcode import Pyzipcode as zip\n",
    "for i in df[pd.isnull(df['state'])&pd.notnull(df['zipcode'])].index:\n",
    "    try:\n",
    "        df['state'][i]=str(zip[df['zipcode'][i]].state)\n",
    "    except:\n",
    "        continue"
   ]
  },
  {
   "cell_type": "code",
   "execution_count": 30,
   "metadata": {
    "collapsed": false
   },
   "outputs": [
    {
     "data": {
      "text/html": [
       "<div>\n",
       "<table border=\"1\" class=\"dataframe\">\n",
       "  <thead>\n",
       "    <tr style=\"text-align: right;\">\n",
       "      <th></th>\n",
       "      <th>date_received</th>\n",
       "      <th>product</th>\n",
       "      <th>sub_product</th>\n",
       "      <th>issue</th>\n",
       "      <th>sub_issue</th>\n",
       "      <th>consumer_complaint_narrative</th>\n",
       "      <th>company_public_response</th>\n",
       "      <th>company</th>\n",
       "      <th>state</th>\n",
       "      <th>zipcode</th>\n",
       "      <th>tags</th>\n",
       "      <th>consumer_consent_provided</th>\n",
       "      <th>submitted_via</th>\n",
       "      <th>date_sent_to_company</th>\n",
       "      <th>company_response_to_consumer</th>\n",
       "      <th>timely_response</th>\n",
       "      <th>consumer_disputed?</th>\n",
       "      <th>complaint_id</th>\n",
       "      <th>company_complaint_counts</th>\n",
       "    </tr>\n",
       "  </thead>\n",
       "  <tbody>\n",
       "    <tr>\n",
       "      <th>0</th>\n",
       "      <td>2013-08-30</td>\n",
       "      <td>Mortgage</td>\n",
       "      <td>Other mortgage</td>\n",
       "      <td>Loan modification,collection,foreclosure</td>\n",
       "      <td>Not Provided</td>\n",
       "      <td>None or Not Provided</td>\n",
       "      <td>Company chooses not to provide</td>\n",
       "      <td>U.S. Bancorp</td>\n",
       "      <td>CA</td>\n",
       "      <td>95993</td>\n",
       "      <td>Unknown</td>\n",
       "      <td>Consent not provided</td>\n",
       "      <td>Referral</td>\n",
       "      <td>2013-09-03</td>\n",
       "      <td>Closed with explanation</td>\n",
       "      <td>Yes</td>\n",
       "      <td>Yes</td>\n",
       "      <td>511074</td>\n",
       "      <td>9554</td>\n",
       "    </tr>\n",
       "    <tr>\n",
       "      <th>1</th>\n",
       "      <td>2013-08-30</td>\n",
       "      <td>Mortgage</td>\n",
       "      <td>Other mortgage</td>\n",
       "      <td>Loan servicing, payments, escrow account</td>\n",
       "      <td>Not Provided</td>\n",
       "      <td>None or Not Provided</td>\n",
       "      <td>Company chooses not to provide</td>\n",
       "      <td>Wells Fargo &amp; Company</td>\n",
       "      <td>CA</td>\n",
       "      <td>91104</td>\n",
       "      <td>Unknown</td>\n",
       "      <td>Consent not provided</td>\n",
       "      <td>Referral</td>\n",
       "      <td>2013-09-03</td>\n",
       "      <td>Closed with explanation</td>\n",
       "      <td>Yes</td>\n",
       "      <td>Yes</td>\n",
       "      <td>511080</td>\n",
       "      <td>42024</td>\n",
       "    </tr>\n",
       "    <tr>\n",
       "      <th>2</th>\n",
       "      <td>2013-08-30</td>\n",
       "      <td>Credit reporting</td>\n",
       "      <td>Not Provided</td>\n",
       "      <td>Incorrect information on credit report</td>\n",
       "      <td>Account status</td>\n",
       "      <td>None or Not Provided</td>\n",
       "      <td>Company chooses not to provide</td>\n",
       "      <td>Wells Fargo &amp; Company</td>\n",
       "      <td>NY</td>\n",
       "      <td>11764</td>\n",
       "      <td>Unknown</td>\n",
       "      <td>Consent not provided</td>\n",
       "      <td>Postal mail</td>\n",
       "      <td>2013-09-18</td>\n",
       "      <td>Closed with explanation</td>\n",
       "      <td>Yes</td>\n",
       "      <td>No</td>\n",
       "      <td>510473</td>\n",
       "      <td>42024</td>\n",
       "    </tr>\n",
       "    <tr>\n",
       "      <th>3</th>\n",
       "      <td>2013-08-30</td>\n",
       "      <td>Student loan</td>\n",
       "      <td>Non-federal student loan</td>\n",
       "      <td>Repaying your loan</td>\n",
       "      <td>Repaying your loan</td>\n",
       "      <td>None or Not Provided</td>\n",
       "      <td>Company chooses not to provide</td>\n",
       "      <td>Navient Solutions, Inc.</td>\n",
       "      <td>MD</td>\n",
       "      <td>21402</td>\n",
       "      <td>Unknown</td>\n",
       "      <td>Consent not provided</td>\n",
       "      <td>Email</td>\n",
       "      <td>2013-08-30</td>\n",
       "      <td>Closed with explanation</td>\n",
       "      <td>Yes</td>\n",
       "      <td>Yes</td>\n",
       "      <td>510326</td>\n",
       "      <td>8007</td>\n",
       "    </tr>\n",
       "    <tr>\n",
       "      <th>4</th>\n",
       "      <td>2013-08-30</td>\n",
       "      <td>Debt collection</td>\n",
       "      <td>Credit card</td>\n",
       "      <td>False statements or representation</td>\n",
       "      <td>Attempted to collect wrong amount</td>\n",
       "      <td>None or Not Provided</td>\n",
       "      <td>Company chooses not to provide</td>\n",
       "      <td>Resurgent Capital Services L.P.</td>\n",
       "      <td>GA</td>\n",
       "      <td>30106</td>\n",
       "      <td>Unknown</td>\n",
       "      <td>Consent not provided</td>\n",
       "      <td>Web</td>\n",
       "      <td>2013-08-30</td>\n",
       "      <td>Closed with explanation</td>\n",
       "      <td>Yes</td>\n",
       "      <td>Yes</td>\n",
       "      <td>511067</td>\n",
       "      <td>1678</td>\n",
       "    </tr>\n",
       "  </tbody>\n",
       "</table>\n",
       "</div>"
      ],
      "text/plain": [
       "  date_received           product               sub_product  \\\n",
       "0    2013-08-30          Mortgage            Other mortgage   \n",
       "1    2013-08-30          Mortgage            Other mortgage   \n",
       "2    2013-08-30  Credit reporting              Not Provided   \n",
       "3    2013-08-30      Student loan  Non-federal student loan   \n",
       "4    2013-08-30   Debt collection               Credit card   \n",
       "\n",
       "                                      issue  \\\n",
       "0  Loan modification,collection,foreclosure   \n",
       "1  Loan servicing, payments, escrow account   \n",
       "2    Incorrect information on credit report   \n",
       "3                        Repaying your loan   \n",
       "4        False statements or representation   \n",
       "\n",
       "                           sub_issue consumer_complaint_narrative  \\\n",
       "0                       Not Provided         None or Not Provided   \n",
       "1                       Not Provided         None or Not Provided   \n",
       "2                     Account status         None or Not Provided   \n",
       "3                 Repaying your loan         None or Not Provided   \n",
       "4  Attempted to collect wrong amount         None or Not Provided   \n",
       "\n",
       "          company_public_response                          company state  \\\n",
       "0  Company chooses not to provide                     U.S. Bancorp    CA   \n",
       "1  Company chooses not to provide            Wells Fargo & Company    CA   \n",
       "2  Company chooses not to provide            Wells Fargo & Company    NY   \n",
       "3  Company chooses not to provide          Navient Solutions, Inc.    MD   \n",
       "4  Company chooses not to provide  Resurgent Capital Services L.P.    GA   \n",
       "\n",
       "  zipcode     tags consumer_consent_provided submitted_via  \\\n",
       "0   95993  Unknown      Consent not provided      Referral   \n",
       "1   91104  Unknown      Consent not provided      Referral   \n",
       "2   11764  Unknown      Consent not provided   Postal mail   \n",
       "3   21402  Unknown      Consent not provided         Email   \n",
       "4   30106  Unknown      Consent not provided           Web   \n",
       "\n",
       "  date_sent_to_company company_response_to_consumer timely_response  \\\n",
       "0           2013-09-03      Closed with explanation             Yes   \n",
       "1           2013-09-03      Closed with explanation             Yes   \n",
       "2           2013-09-18      Closed with explanation             Yes   \n",
       "3           2013-08-30      Closed with explanation             Yes   \n",
       "4           2013-08-30      Closed with explanation             Yes   \n",
       "\n",
       "  consumer_disputed?  complaint_id  company_complaint_counts  \n",
       "0                Yes        511074                      9554  \n",
       "1                Yes        511080                     42024  \n",
       "2                 No        510473                     42024  \n",
       "3                Yes        510326                      8007  \n",
       "4                Yes        511067                      1678  "
      ]
     },
     "execution_count": 30,
     "metadata": {},
     "output_type": "execute_result"
    }
   ],
   "source": [
    "df['state'].value_counts(dropna=False)\n",
    "pd.isnull(df['state']).value_counts()\n",
    "\n",
    "df[pd.isnull(df['state'])&pd.isnull(df['zipcode'])].shape\n",
    "\n",
    "df['state'].fillna('Not provided',inplace=True)\n",
    "df['zipcode'].fillna('Not Provided',inplace=True)\n",
    "\n",
    "df.head()"
   ]
  },
  {
   "cell_type": "code",
   "execution_count": 31,
   "metadata": {
    "collapsed": false
   },
   "outputs": [
    {
     "name": "stdout",
     "output_type": "stream",
     "text": [
      "<pandas.core.groupby.SeriesGroupBy object at 0x10a00a1d0>\n"
     ]
    },
    {
     "data": {
      "text/html": [
       "<div>\n",
       "<table border=\"1\" class=\"dataframe\">\n",
       "  <thead>\n",
       "    <tr style=\"text-align: right;\">\n",
       "      <th>consumer_disputed?</th>\n",
       "      <th>No</th>\n",
       "      <th>Yes</th>\n",
       "    </tr>\n",
       "    <tr>\n",
       "      <th>consumer_consent_provided</th>\n",
       "      <th></th>\n",
       "      <th></th>\n",
       "    </tr>\n",
       "  </thead>\n",
       "  <tbody>\n",
       "    <tr>\n",
       "      <th>Consent not provided</th>\n",
       "      <td>392593</td>\n",
       "      <td>96557</td>\n",
       "    </tr>\n",
       "    <tr>\n",
       "      <th>Consent provided</th>\n",
       "      <td>51230</td>\n",
       "      <td>15577</td>\n",
       "    </tr>\n",
       "  </tbody>\n",
       "</table>\n",
       "</div>"
      ],
      "text/plain": [
       "consumer_disputed?             No    Yes\n",
       "consumer_consent_provided               \n",
       "Consent not provided       392593  96557\n",
       "Consent provided            51230  15577"
      ]
     },
     "execution_count": 31,
     "metadata": {},
     "output_type": "execute_result"
    }
   ],
   "source": [
    "print (df.groupby(df['consumer_disputed?'])['date_received'])\n",
    "\n",
    "temp5 = pd.crosstab(df['consumer_consent_provided'], df['consumer_disputed?'])\n",
    "temp5"
   ]
  },
  {
   "cell_type": "code",
   "execution_count": 32,
   "metadata": {
    "collapsed": true
   },
   "outputs": [],
   "source": [
    "replace={'Yes':True, 'No':False}\n",
    "\n",
    "df['consumer_disputed?']= df['consumer_disputed?'].apply(lambda x: replace[x])\n"
   ]
  },
  {
   "cell_type": "code",
   "execution_count": 33,
   "metadata": {
    "collapsed": true
   },
   "outputs": [],
   "source": [
    "df_model = DataFrame()"
   ]
  },
  {
   "cell_type": "code",
   "execution_count": 34,
   "metadata": {
    "collapsed": true
   },
   "outputs": [],
   "source": [
    "replace1={'Consent provided':True, 'Consent not provided':False}\n",
    "df_model['consumer_consent_provided']= df['consumer_consent_provided'].apply(lambda x: replace1[x])\n"
   ]
  },
  {
   "cell_type": "code",
   "execution_count": 35,
   "metadata": {
    "collapsed": true
   },
   "outputs": [],
   "source": [
    "company_complaitns_counts = df['company'].value_counts()\n",
    "df_model['company_complaint_counts'] = df['company'].apply(lambda x: company_complaitns_counts[x])"
   ]
  },
  {
   "cell_type": "code",
   "execution_count": 36,
   "metadata": {
    "collapsed": false
   },
   "outputs": [
    {
     "name": "stdout",
     "output_type": "stream",
     "text": [
      "<class 'pandas.core.frame.DataFrame'>\n",
      "RangeIndex: 555957 entries, 0 to 555956\n",
      "Data columns (total 10 columns):\n",
      "consumer_consent_provided       555957 non-null bool\n",
      "company_complaint_counts        555957 non-null int64\n",
      "product                         555957 non-null category\n",
      "sub_product                     555957 non-null category\n",
      "issue                           555957 non-null category\n",
      "sub_issue                       555957 non-null category\n",
      "company_public_response         555957 non-null category\n",
      "tags                            555957 non-null category\n",
      "company_response_to_consumer    555957 non-null category\n",
      "state                           555957 non-null category\n",
      "dtypes: bool(1), category(8), int64(1)\n",
      "memory usage: 9.0 MB\n"
     ]
    },
    {
     "data": {
      "text/html": [
       "<div>\n",
       "<table border=\"1\" class=\"dataframe\">\n",
       "  <thead>\n",
       "    <tr style=\"text-align: right;\">\n",
       "      <th></th>\n",
       "      <th>0</th>\n",
       "      <th>1</th>\n",
       "      <th>2</th>\n",
       "      <th>3</th>\n",
       "      <th>4</th>\n",
       "    </tr>\n",
       "  </thead>\n",
       "  <tbody>\n",
       "    <tr>\n",
       "      <th>consumer_consent_provided</th>\n",
       "      <td>False</td>\n",
       "      <td>False</td>\n",
       "      <td>False</td>\n",
       "      <td>False</td>\n",
       "      <td>False</td>\n",
       "    </tr>\n",
       "    <tr>\n",
       "      <th>company_complaint_counts</th>\n",
       "      <td>9554</td>\n",
       "      <td>42024</td>\n",
       "      <td>42024</td>\n",
       "      <td>8007</td>\n",
       "      <td>1678</td>\n",
       "    </tr>\n",
       "    <tr>\n",
       "      <th>product</th>\n",
       "      <td>0</td>\n",
       "      <td>0</td>\n",
       "      <td>1</td>\n",
       "      <td>2</td>\n",
       "      <td>3</td>\n",
       "    </tr>\n",
       "    <tr>\n",
       "      <th>sub_product</th>\n",
       "      <td>0</td>\n",
       "      <td>0</td>\n",
       "      <td>1</td>\n",
       "      <td>2</td>\n",
       "      <td>3</td>\n",
       "    </tr>\n",
       "    <tr>\n",
       "      <th>issue</th>\n",
       "      <td>0</td>\n",
       "      <td>1</td>\n",
       "      <td>2</td>\n",
       "      <td>3</td>\n",
       "      <td>4</td>\n",
       "    </tr>\n",
       "    <tr>\n",
       "      <th>sub_issue</th>\n",
       "      <td>0</td>\n",
       "      <td>0</td>\n",
       "      <td>1</td>\n",
       "      <td>2</td>\n",
       "      <td>3</td>\n",
       "    </tr>\n",
       "    <tr>\n",
       "      <th>company_public_response</th>\n",
       "      <td>0</td>\n",
       "      <td>0</td>\n",
       "      <td>0</td>\n",
       "      <td>0</td>\n",
       "      <td>0</td>\n",
       "    </tr>\n",
       "    <tr>\n",
       "      <th>tags</th>\n",
       "      <td>0</td>\n",
       "      <td>0</td>\n",
       "      <td>0</td>\n",
       "      <td>0</td>\n",
       "      <td>0</td>\n",
       "    </tr>\n",
       "    <tr>\n",
       "      <th>company_response_to_consumer</th>\n",
       "      <td>0</td>\n",
       "      <td>0</td>\n",
       "      <td>0</td>\n",
       "      <td>0</td>\n",
       "      <td>0</td>\n",
       "    </tr>\n",
       "    <tr>\n",
       "      <th>state</th>\n",
       "      <td>0</td>\n",
       "      <td>0</td>\n",
       "      <td>1</td>\n",
       "      <td>2</td>\n",
       "      <td>3</td>\n",
       "    </tr>\n",
       "    <tr>\n",
       "      <th>Process time</th>\n",
       "      <td>4</td>\n",
       "      <td>4</td>\n",
       "      <td>19</td>\n",
       "      <td>0</td>\n",
       "      <td>0</td>\n",
       "    </tr>\n",
       "    <tr>\n",
       "      <th>timely_response</th>\n",
       "      <td>True</td>\n",
       "      <td>True</td>\n",
       "      <td>True</td>\n",
       "      <td>True</td>\n",
       "      <td>True</td>\n",
       "    </tr>\n",
       "    <tr>\n",
       "      <th>Date_received_year</th>\n",
       "      <td>2013</td>\n",
       "      <td>2013</td>\n",
       "      <td>2013</td>\n",
       "      <td>2013</td>\n",
       "      <td>2013</td>\n",
       "    </tr>\n",
       "    <tr>\n",
       "      <th>Date_received_month</th>\n",
       "      <td>8</td>\n",
       "      <td>8</td>\n",
       "      <td>8</td>\n",
       "      <td>8</td>\n",
       "      <td>8</td>\n",
       "    </tr>\n",
       "    <tr>\n",
       "      <th>Date_received_day</th>\n",
       "      <td>30</td>\n",
       "      <td>30</td>\n",
       "      <td>30</td>\n",
       "      <td>30</td>\n",
       "      <td>30</td>\n",
       "    </tr>\n",
       "  </tbody>\n",
       "</table>\n",
       "</div>"
      ],
      "text/plain": [
       "                                  0      1      2      3      4\n",
       "consumer_consent_provided     False  False  False  False  False\n",
       "company_complaint_counts       9554  42024  42024   8007   1678\n",
       "product                           0      0      1      2      3\n",
       "sub_product                       0      0      1      2      3\n",
       "issue                             0      1      2      3      4\n",
       "sub_issue                         0      0      1      2      3\n",
       "company_public_response           0      0      0      0      0\n",
       "tags                              0      0      0      0      0\n",
       "company_response_to_consumer      0      0      0      0      0\n",
       "state                             0      0      1      2      3\n",
       "Process time                      4      4     19      0      0\n",
       "timely_response                True   True   True   True   True\n",
       "Date_received_year             2013   2013   2013   2013   2013\n",
       "Date_received_month               8      8      8      8      8\n",
       "Date_received_day                30     30     30     30     30"
      ]
     },
     "execution_count": 36,
     "metadata": {},
     "output_type": "execute_result"
    }
   ],
   "source": [
    "company_complaitns_counts = df['company'].value_counts()\n",
    "df_model['company_complaint_counts'] = df['company'].apply(lambda x: company_complaitns_counts[x])\n",
    "\n",
    "\n",
    "feature_for_model=['product', 'sub_product','issue','sub_issue', 'company_public_response','tags',\n",
    "                'company_response_to_consumer', 'state']\n",
    "for name in feature_for_model:\n",
    "    repl={}\n",
    "    i=0\n",
    "    for value in df[name].unique():\n",
    "        repl[value] = i\n",
    "        i+=1\n",
    "       \n",
    "    df[name] = df[name].apply(lambda x: repl[x])\n",
    "    df_model[name] = df[name].astype('category')\n",
    "\n",
    "\n",
    "df_model.info()\n",
    "\n",
    "##process time : days between the date CFPB received complaitns and the date \n",
    "##when complaints were sent to company on behal of comsumer\n",
    "df['Process time']=(df['date_sent_to_company']-df['date_received']).astype('timedelta64[D]').astype(int)\n",
    "df_model=pd.concat([df_model,df['Process time']],axis=1)\n",
    "\n",
    "df['timely_response'] = df['timely_response'].apply(lambda x: replace[x])\n",
    "df_model=pd.concat([df_model,df['timely_response']],axis=1)\n",
    "\n",
    "##Create features about complaint submitted time\n",
    "df_model['Date_received_year'] = df['date_received'].apply(lambda x: x.year)\n",
    "df_model['Date_received_month'] = df['date_received'].apply(lambda x: x.month)\n",
    "df_model['Date_received_day'] = df['date_received'].apply(lambda x: x.day)\n",
    "\n",
    "df_model.head().T"
   ]
  },
  {
   "cell_type": "code",
   "execution_count": 37,
   "metadata": {
    "collapsed": false
   },
   "outputs": [
    {
     "name": "stderr",
     "output_type": "stream",
     "text": [
      "/Users/Dhan/anaconda2/lib/python2.7/site-packages/sklearn/cross_validation.py:44: DeprecationWarning: This module was deprecated in version 0.18 in favor of the model_selection module into which all the refactored classes and functions are moved. Also note that the interface of the new CV iterators are different from that of this module. This module will be removed in 0.20.\n",
      "  \"This module will be removed in 0.20.\", DeprecationWarning)\n",
      "/Users/Dhan/anaconda2/lib/python2.7/site-packages/sklearn/grid_search.py:43: DeprecationWarning: This module was deprecated in version 0.18 in favor of the model_selection module into which all the refactored classes and functions are moved. This module will be removed in 0.20.\n",
      "  DeprecationWarning)\n"
     ]
    }
   ],
   "source": [
    "from sklearn.naive_bayes import MultinomialNB\n",
    "from sklearn.feature_extraction.text import TfidfVectorizer\n",
    "from sklearn.cross_validation import train_test_split\n",
    "import sklearn.metrics as skm\n",
    "from sklearn.pipeline import Pipeline\n",
    "from scipy import interp\n",
    "from nltk import word_tokenize\n",
    "from nltk.stem.snowball import SnowballStemmer\n",
    "from sklearn.linear_model import LogisticRegression\n",
    "from sklearn.grid_search import GridSearchCV\n",
    "from sklearn.feature_extraction.text import CountVectorizer\n",
    "from sklearn.feature_extraction.text import TfidfTransformer\n",
    "from sklearn.linear_model import SGDClassifier\n",
    "from sklearn.multiclass import OneVsRestClassifier\n",
    "from sklearn.ensemble import RandomForestClassifier"
   ]
  },
  {
   "cell_type": "code",
   "execution_count": 38,
   "metadata": {
    "collapsed": false
   },
   "outputs": [
    {
     "data": {
      "text/plain": [
       "(111192, 15)"
      ]
     },
     "execution_count": 38,
     "metadata": {},
     "output_type": "execute_result"
    }
   ],
   "source": [
    "X = df_model.values\n",
    "\n",
    "y = df['consumer_disputed?'].values\n",
    "\n",
    "X_train, X_test, y_train, y_test = train_test_split(X, y, test_size=0.20, random_state=67)\n",
    "\n",
    "X_train.shape\n",
    "y_train.shape\n",
    "X_test.shape"
   ]
  },
  {
   "cell_type": "code",
   "execution_count": 39,
   "metadata": {
    "collapsed": false
   },
   "outputs": [
    {
     "name": "stderr",
     "output_type": "stream",
     "text": [
      "/Users/Dhan/anaconda2/lib/python2.7/site-packages/sklearn/utils/validation.py:429: DataConversionWarning: Data with input dtype object was converted to float64 by StandardScaler.\n",
      "  warnings.warn(msg, _DataConversionWarning)\n"
     ]
    }
   ],
   "source": [
    "from sklearn.preprocessing import StandardScaler\n",
    "scaler = StandardScaler()\n",
    "scaler.fit(X_train)  \n",
    "X_train = scaler.transform(X_train)\n",
    "X_test = scaler.transform(X_test) "
   ]
  },
  {
   "cell_type": "code",
   "execution_count": 40,
   "metadata": {
    "collapsed": false
   },
   "outputs": [
    {
     "name": "stderr",
     "output_type": "stream",
     "text": [
      "/Users/Dhan/anaconda2/lib/python2.7/site-packages/sklearn/utils/class_weight.py:65: DeprecationWarning: The class_weight='auto' heuristic is deprecated in 0.17 in favor of a new heuristic class_weight='balanced'. 'auto' will be removed in 0.19\n",
      "  \" 0.19\", DeprecationWarning)\n"
     ]
    },
    {
     "data": {
      "text/plain": [
       "0.53676523490898631"
      ]
     },
     "execution_count": 40,
     "metadata": {},
     "output_type": "execute_result"
    }
   ],
   "source": [
    "lr = LogisticRegression(class_weight='auto')\n",
    "\n",
    "lr.fit(X_train, y_train)\n",
    "\n",
    "lr.score(X_test,y_test)"
   ]
  },
  {
   "cell_type": "code",
   "execution_count": 41,
   "metadata": {
    "collapsed": true
   },
   "outputs": [],
   "source": [
    "v_probs = lr.predict_proba(X_test)[:, 1]"
   ]
  },
  {
   "cell_type": "code",
   "execution_count": 42,
   "metadata": {
    "collapsed": false
   },
   "outputs": [],
   "source": [
    "v_train=lr.predict_proba(X_train)[:,1]"
   ]
  },
  {
   "cell_type": "code",
   "execution_count": 43,
   "metadata": {
    "collapsed": false
   },
   "outputs": [
    {
     "name": "stdout",
     "output_type": "stream",
     "text": [
      "<class 'pandas.core.frame.DataFrame'>\n",
      "RangeIndex: 555957 entries, 0 to 555956\n",
      "Data columns (total 15 columns):\n",
      "consumer_consent_provided       555957 non-null bool\n",
      "company_complaint_counts        555957 non-null int64\n",
      "product                         555957 non-null category\n",
      "sub_product                     555957 non-null category\n",
      "issue                           555957 non-null category\n",
      "sub_issue                       555957 non-null category\n",
      "company_public_response         555957 non-null category\n",
      "tags                            555957 non-null category\n",
      "company_response_to_consumer    555957 non-null category\n",
      "state                           555957 non-null category\n",
      "Process time                    555957 non-null int64\n",
      "timely_response                 555957 non-null bool\n",
      "Date_received_year              555957 non-null int64\n",
      "Date_received_month             555957 non-null int64\n",
      "Date_received_day               555957 non-null int64\n",
      "dtypes: bool(2), category(8), int64(5)\n",
      "memory usage: 26.5 MB\n"
     ]
    }
   ],
   "source": [
    "#df_model['consumer_disputed'].value_counts()\n",
    "df_model.info()"
   ]
  },
  {
   "cell_type": "code",
   "execution_count": 44,
   "metadata": {
    "collapsed": false
   },
   "outputs": [
    {
     "data": {
      "text/plain": [
       "0.56950211192792033"
      ]
     },
     "execution_count": 44,
     "metadata": {},
     "output_type": "execute_result"
    }
   ],
   "source": [
    "import sklearn.metrics as skm\n",
    "skm.roc_auc_score(y_test, v_probs)"
   ]
  },
  {
   "cell_type": "code",
   "execution_count": 45,
   "metadata": {
    "collapsed": false
   },
   "outputs": [
    {
     "data": {
      "text/html": [
       "<div>\n",
       "<table border=\"1\" class=\"dataframe\">\n",
       "  <thead>\n",
       "    <tr style=\"text-align: right;\">\n",
       "      <th>col_0</th>\n",
       "      <th>False</th>\n",
       "      <th>True</th>\n",
       "    </tr>\n",
       "    <tr>\n",
       "      <th>row_0</th>\n",
       "      <th></th>\n",
       "      <th></th>\n",
       "    </tr>\n",
       "  </thead>\n",
       "  <tbody>\n",
       "    <tr>\n",
       "      <th>False</th>\n",
       "      <td>46988</td>\n",
       "      <td>41704</td>\n",
       "    </tr>\n",
       "    <tr>\n",
       "      <th>True</th>\n",
       "      <td>9804</td>\n",
       "      <td>12696</td>\n",
       "    </tr>\n",
       "  </tbody>\n",
       "</table>\n",
       "</div>"
      ],
      "text/plain": [
       "col_0  False  True \n",
       "row_0              \n",
       "False  46988  41704\n",
       "True    9804  12696"
      ]
     },
     "execution_count": 45,
     "metadata": {},
     "output_type": "execute_result"
    },
    {
     "data": {
      "image/png": "[encoded data removed]",
      "text/plain": [
       "<matplotlib.figure.Figure at 0x12313a710>"
      ]
     },
     "metadata": {},
     "output_type": "display_data"
    }
   ],
   "source": [
    "from sklearn import metrics\n",
    "fpr, tpr, thresholds = metrics.roc_curve(y_test, v_probs)\n",
    "plt.hold(True)\n",
    "plt.plot(fpr, tpr,Label='Hello')\n",
    "thresholds\n",
    "skm.recall_score(y_test, lr.predict(X_test))\n",
    "pd.crosstab(y_test, lr.predict(X_test))"
   ]
  },
  {
   "cell_type": "code",
   "execution_count": 46,
   "metadata": {
    "collapsed": false
   },
   "outputs": [
    {
     "data": {
      "text/plain": [
       "RandomForestClassifier(bootstrap=True, class_weight='auto', criterion='gini',\n",
       "            max_depth=None, max_features=1, max_leaf_nodes=None,\n",
       "            min_impurity_split=1e-07, min_samples_leaf=1,\n",
       "            min_samples_split=2, min_weight_fraction_leaf=0.0,\n",
       "            n_estimators=200, n_jobs=-1, oob_score=False,\n",
       "            random_state=None, verbose=0, warm_start=False)"
      ]
     },
     "execution_count": 46,
     "metadata": {},
     "output_type": "execute_result"
    }
   ],
   "source": [
    "rfc = RandomForestClassifier(n_estimators=200, n_jobs=-1, class_weight='auto', max_features=1)\n",
    "rfc.fit(X_train, y_train)"
   ]
  },
  {
   "cell_type": "code",
   "execution_count": 47,
   "metadata": {
    "collapsed": false
   },
   "outputs": [
    {
     "data": {
      "text/plain": [
       "0.79163069285560117"
      ]
     },
     "execution_count": 47,
     "metadata": {},
     "output_type": "execute_result"
    }
   ],
   "source": [
    "rfc.score(X_test,y_test)"
   ]
  },
  {
   "cell_type": "code",
   "execution_count": 48,
   "metadata": {
    "collapsed": true
   },
   "outputs": [],
   "source": [
    "predict2=rfc.predict(X_test)"
   ]
  },
  {
   "cell_type": "code",
   "execution_count": 49,
   "metadata": {
    "collapsed": false
   },
   "outputs": [
    {
     "data": {
      "text/plain": [
       "0.041155555555555556"
      ]
     },
     "execution_count": 49,
     "metadata": {},
     "output_type": "execute_result"
    }
   ],
   "source": [
    "skm.recall_score(y_test,rfc.predict(X_test))"
   ]
  },
  {
   "cell_type": "code",
   "execution_count": 50,
   "metadata": {
    "collapsed": true
   },
   "outputs": [],
   "source": [
    "def plot_importance(clf, X, max_features = 18):\n",
    "    '''Plot feature importance'''\n",
    "    feature_importance=clf.feature_importances_\n",
    "    feature_importance=100.0*(feature_importance/feature_importance.max())\n",
    "    sorted_idx=np.argsort(feature_importance)\n",
    "    pos=np.arange(sorted_idx.shape[0])+.5\n",
    "    \n",
    "    pos=pos[-max_features:]\n",
    "    feature_importance=(feature_importance[sorted_idx])[-max_features:]\n",
    "    features_names=(X.columns[sorted_idx])[-max_features:]\n",
    "    mycolors='rgb'\n",
    "    plt.barh(pos, feature_importance, align='center',color=mycolors)\n",
    "    plt.yticks(pos,features_names)\n",
    "    plt.xlabel('Relative Importnace')\n",
    "    plt.title('Variable Importnace')\n",
    "    \n",
    "    "
   ]
  },
  {
   "cell_type": "code",
   "execution_count": 51,
   "metadata": {
    "collapsed": false
   },
   "outputs": [
    {
     "data": {
      "image/png": "[encoded data removed]",
      "text/plain": [
       "<matplotlib.figure.Figure at 0x11aa055d0>"
      ]
     },
     "metadata": {},
     "output_type": "display_data"
    }
   ],
   "source": [
    "plot_importance(rfc, df_model, max_features=18)"
   ]
  },
  {
   "cell_type": "code",
   "execution_count": 52,
   "metadata": {
    "collapsed": true
   },
   "outputs": [],
   "source": [
    "from string import punctuation, ascii_letters\n",
    "def process_text(text):\n",
    "    '''\n",
    "    text:string\n",
    "    OUTPUT:int, int,int, float(length, word count, uppercase_count_rate, punctuation_rate)\n",
    "    '''\n",
    "    length=len(text)\n",
    "    word_count=0\n",
    "    last_char=False\n",
    "    for c in text:\n",
    "        if c in ascii_letters:\n",
    "            if last_char==False:\n",
    "                word_count+=1\n",
    "                last_char=True\n",
    "            else:\n",
    "                last_char=False\n",
    "                \n",
    "    punct_count=0\n",
    "    uppercase_count=0\n",
    "    for c in text:\n",
    "        if c in punctuation:\n",
    "            punct_count+=1\n",
    "        if c.isupper():\n",
    "            uppercase_count+=1\n",
    "    punctuation_rate=punct_count/float(length+1)\n",
    "    uppercase_count_rate=uppercase_out/float(length+1)\n",
    "    return length, word_count,uppercase_count_rate,punctuation_rate\n"
   ]
  },
  {
   "cell_type": "code",
   "execution_count": 53,
   "metadata": {
    "collapsed": true
   },
   "outputs": [],
   "source": [
    "def process_text_column(df,fieldname):\n",
    "    lenght_list=[]\n",
    "    word_count_list=[]\n",
    "    punctuation_rate_list=[]\n",
    "    uppercase_count_rate_list=[]\n",
    "    for row_ix in df.index:\n",
    "        length,word_count,uppercase_count_rate,punctuation_rate=process_text_field(df[fieldname][row_ix])\n",
    "        length_list.append(length)\n",
    "        word_count_list.append(word_count)\n",
    "        uppercase_count_rate_list.append(uppercase_count_rate)\n",
    "        punctuation_rate_list.append(punctuation_rate)\n",
    "    return length_list, word_count_list,uppercase_count_rate_list, punctuation_rate_list"
   ]
  },
  {
   "cell_type": "code",
   "execution_count": 54,
   "metadata": {
    "collapsed": true
   },
   "outputs": [],
   "source": [
    "stemmer=SnowballStemmer(\"english\")\n",
    "\n",
    "def stem_tokens(takens,stemmer):\n",
    "    stemmed=[]\n",
    "    for item in tokens:\n",
    "        stemmed.append(stemmer.stem(item))\n",
    "    return stemmed"
   ]
  },
  {
   "cell_type": "code",
   "execution_count": 55,
   "metadata": {
    "collapsed": true
   },
   "outputs": [],
   "source": [
    "def tokenize(text):\n",
    "    tokens=word_tokenize(text)\n",
    "    stems=stem_tokens(tokens,stemmer)\n",
    "    return stems"
   ]
  },
  {
   "cell_type": "code",
   "execution_count": 56,
   "metadata": {
    "collapsed": true
   },
   "outputs": [],
   "source": [
    "df=df[df['consumer_complaint_narrative']!='None or Not Provided']"
   ]
  },
  {
   "cell_type": "code",
   "execution_count": 57,
   "metadata": {
    "collapsed": true
   },
   "outputs": [],
   "source": [
    "char_remove=['XX','XXX','XXXX']\n",
    "df['consumer_complaint_narrative']=df['consumer_complaint_narrative'].apply(lambda x:x.translate(None,''.join(char_remove)))"
   ]
  },
  {
   "cell_type": "code",
   "execution_count": 58,
   "metadata": {
    "collapsed": true
   },
   "outputs": [],
   "source": [
    "X_word=df['consumer_complaint_narrative'].values\n",
    "y=df['consumer_disputed?']"
   ]
  },
  {
   "cell_type": "code",
   "execution_count": 59,
   "metadata": {
    "collapsed": false
   },
   "outputs": [
    {
     "data": {
      "text/plain": [
       "(66806,)"
      ]
     },
     "execution_count": 59,
     "metadata": {},
     "output_type": "execute_result"
    }
   ],
   "source": [
    "X_word.shape"
   ]
  },
  {
   "cell_type": "code",
   "execution_count": 84,
   "metadata": {
    "collapsed": false
   },
   "outputs": [
    {
     "data": {
      "text/plain": [
       "False    51229\n",
       "True     15577\n",
       "Name: consumer_disputed?, dtype: int64"
      ]
     },
     "execution_count": 84,
     "metadata": {},
     "output_type": "execute_result"
    }
   ],
   "source": [
    "df['consumer_disputed?'].value_counts()"
   ]
  },
  {
   "cell_type": "code",
   "execution_count": 60,
   "metadata": {
    "collapsed": true
   },
   "outputs": [],
   "source": [
    "X_train_word, X_test_word,y_train,y_test=train_test_split(X_word,y,test_size=0.20,random_state=60)\n",
    "vectorizer=TfidfVectorizer(stop_words='english',lowercase=False,min_df=0.001,max_df=0.2)"
   ]
  },
  {
   "cell_type": "code",
   "execution_count": 61,
   "metadata": {
    "collapsed": true
   },
   "outputs": [],
   "source": [
    "word_matrix_train=vectorizer.fit_transform(X_train_word)\n",
    "word_matrix_test=vectorizer.transform(X_test_word)\n",
    "word_matrix=vectorizer.transform(X_word)"
   ]
  },
  {
   "cell_type": "code",
   "execution_count": 62,
   "metadata": {
    "collapsed": false
   },
   "outputs": [
    {
     "data": {
      "text/plain": [
       "(66806, 5093)"
      ]
     },
     "execution_count": 62,
     "metadata": {},
     "output_type": "execute_result"
    }
   ],
   "source": [
    "word_matrix.shape"
   ]
  },
  {
   "cell_type": "code",
   "execution_count": 63,
   "metadata": {
    "collapsed": false
   },
   "outputs": [
    {
     "data": {
      "text/plain": [
       "MultinomialNB(alpha=1.0, class_prior=None, fit_prior=True)"
      ]
     },
     "execution_count": 63,
     "metadata": {},
     "output_type": "execute_result"
    }
   ],
   "source": [
    "model_new=MultinomialNB()\n",
    "model_new.fit(word_matrix_train,y_train)"
   ]
  },
  {
   "cell_type": "code",
   "execution_count": 64,
   "metadata": {
    "collapsed": false
   },
   "outputs": [
    {
     "data": {
      "text/plain": [
       "0.61928647181242658"
      ]
     },
     "execution_count": 64,
     "metadata": {},
     "output_type": "execute_result"
    }
   ],
   "source": [
    "model_new.score(word_matrix_test,y_test)\n",
    "skm.roc_auc_score(y_test,model_new.predict_proba(word_matrix_test)[:,1])"
   ]
  },
  {
   "cell_type": "code",
   "execution_count": 65,
   "metadata": {
    "collapsed": false
   },
   "outputs": [
    {
     "data": {
      "text/plain": [
       "0.66135839297685783"
      ]
     },
     "execution_count": 65,
     "metadata": {},
     "output_type": "execute_result"
    }
   ],
   "source": [
    "rf= RandomForestClassifier(n_estimators=500,n_jobs=-1,class_weight='auto')\n",
    "rf.fit(word_matrix_train, y_train)\n",
    "skm.roc_auc_score(y_test,rf.predict_proba(word_matrix_test)[:,1])"
   ]
  },
  {
   "cell_type": "code",
   "execution_count": 66,
   "metadata": {
    "collapsed": false
   },
   "outputs": [
    {
     "data": {
      "text/plain": [
       "(13362,)"
      ]
     },
     "execution_count": 66,
     "metadata": {},
     "output_type": "execute_result"
    }
   ],
   "source": [
    "y_test.shape "
   ]
  },
  {
   "cell_type": "code",
   "execution_count": 67,
   "metadata": {
    "collapsed": false
   },
   "outputs": [],
   "source": [
    "v_prob=rf.predict_proba(word_matrix_test)[:,1]"
   ]
  },
  {
   "cell_type": "code",
   "execution_count": 68,
   "metadata": {
    "collapsed": false
   },
   "outputs": [
    {
     "data": {
      "text/plain": [
       "(13362,)"
      ]
     },
     "execution_count": 68,
     "metadata": {},
     "output_type": "execute_result"
    }
   ],
   "source": [
    "v_prob.shape"
   ]
  },
  {
   "cell_type": "code",
   "execution_count": 69,
   "metadata": {
    "collapsed": true
   },
   "outputs": [],
   "source": [
    "features=np.array(vectorizer.get_feature_names())"
   ]
  },
  {
   "cell_type": "code",
   "execution_count": 70,
   "metadata": {
    "collapsed": false
   },
   "outputs": [],
   "source": [
    "table=DataFrame(word_matrix.toarray(),columns=features)"
   ]
  },
  {
   "cell_type": "code",
   "execution_count": 77,
   "metadata": {
    "collapsed": false
   },
   "outputs": [
    {
     "data": {
      "text/html": [
       "<div>\n",
       "<table border=\"1\" class=\"dataframe\">\n",
       "  <thead>\n",
       "    <tr style=\"text-align: right;\">\n",
       "      <th>col_0</th>\n",
       "      <th>0.0</th>\n",
       "      <th>0.00124448694016</th>\n",
       "      <th>0.00192332083294</th>\n",
       "      <th>0.002</th>\n",
       "      <th>0.00323571662333</th>\n",
       "      <th>0.004</th>\n",
       "      <th>0.00494541319755</th>\n",
       "      <th>0.006</th>\n",
       "      <th>0.00635057386494</th>\n",
       "      <th>0.008</th>\n",
       "      <th>...</th>\n",
       "      <th>0.95</th>\n",
       "      <th>0.954</th>\n",
       "      <th>0.96</th>\n",
       "      <th>0.962</th>\n",
       "      <th>0.964</th>\n",
       "      <th>0.964778765811</th>\n",
       "      <th>0.968</th>\n",
       "      <th>0.994</th>\n",
       "      <th>0.996</th>\n",
       "      <th>1.0</th>\n",
       "    </tr>\n",
       "    <tr>\n",
       "      <th>consumer_disputed?</th>\n",
       "      <th></th>\n",
       "      <th></th>\n",
       "      <th></th>\n",
       "      <th></th>\n",
       "      <th></th>\n",
       "      <th></th>\n",
       "      <th></th>\n",
       "      <th></th>\n",
       "      <th></th>\n",
       "      <th></th>\n",
       "      <th></th>\n",
       "      <th></th>\n",
       "      <th></th>\n",
       "      <th></th>\n",
       "      <th></th>\n",
       "      <th></th>\n",
       "      <th></th>\n",
       "      <th></th>\n",
       "      <th></th>\n",
       "      <th></th>\n",
       "      <th></th>\n",
       "    </tr>\n",
       "  </thead>\n",
       "  <tbody>\n",
       "    <tr>\n",
       "      <th>False</th>\n",
       "      <td>67</td>\n",
       "      <td>1</td>\n",
       "      <td>1</td>\n",
       "      <td>4</td>\n",
       "      <td>1</td>\n",
       "      <td>6</td>\n",
       "      <td>1</td>\n",
       "      <td>8</td>\n",
       "      <td>1</td>\n",
       "      <td>6</td>\n",
       "      <td>...</td>\n",
       "      <td>0</td>\n",
       "      <td>0</td>\n",
       "      <td>0</td>\n",
       "      <td>0</td>\n",
       "      <td>0</td>\n",
       "      <td>0</td>\n",
       "      <td>0</td>\n",
       "      <td>0</td>\n",
       "      <td>0</td>\n",
       "      <td>0</td>\n",
       "    </tr>\n",
       "    <tr>\n",
       "      <th>True</th>\n",
       "      <td>0</td>\n",
       "      <td>0</td>\n",
       "      <td>0</td>\n",
       "      <td>0</td>\n",
       "      <td>1</td>\n",
       "      <td>0</td>\n",
       "      <td>0</td>\n",
       "      <td>1</td>\n",
       "      <td>0</td>\n",
       "      <td>0</td>\n",
       "      <td>...</td>\n",
       "      <td>2</td>\n",
       "      <td>1</td>\n",
       "      <td>2</td>\n",
       "      <td>1</td>\n",
       "      <td>1</td>\n",
       "      <td>1</td>\n",
       "      <td>2</td>\n",
       "      <td>1</td>\n",
       "      <td>2</td>\n",
       "      <td>5</td>\n",
       "    </tr>\n",
       "  </tbody>\n",
       "</table>\n",
       "<p>2 rows × 4682 columns</p>\n",
       "</div>"
      ],
      "text/plain": [
       "col_0               0.000000  0.001244  0.001923  0.002000  0.003236  \\\n",
       "consumer_disputed?                                                     \n",
       "False                     67         1         1         4         1   \n",
       "True                       0         0         0         0         1   \n",
       "\n",
       "col_0               0.004000  0.004945  0.006000  0.006351  0.008000  \\\n",
       "consumer_disputed?                                                     \n",
       "False                      6         1         8         1         6   \n",
       "True                       0         0         1         0         0   \n",
       "\n",
       "col_0                 ...     0.950000  0.954000  0.960000  0.962000  \\\n",
       "consumer_disputed?    ...                                              \n",
       "False                 ...            0         0         0         0   \n",
       "True                  ...            2         1         2         1   \n",
       "\n",
       "col_0               0.964000  0.964779  0.968000  0.994000  0.996000  1.000000  \n",
       "consumer_disputed?                                                              \n",
       "False                      0         0         0         0         0         0  \n",
       "True                       1         1         2         1         2         5  \n",
       "\n",
       "[2 rows x 4682 columns]"
      ]
     },
     "execution_count": 77,
     "metadata": {},
     "output_type": "execute_result"
    }
   ],
   "source": []
  },
  {
   "cell_type": "code",
   "execution_count": 71,
   "metadata": {
    "collapsed": false
   },
   "outputs": [
    {
     "data": {
      "text/html": [
       "<div>\n",
       "<table border=\"1\" class=\"dataframe\">\n",
       "  <thead>\n",
       "    <tr style=\"text-align: right;\">\n",
       "      <th></th>\n",
       "      <th>000</th>\n",
       "      <th>10</th>\n",
       "      <th>100</th>\n",
       "      <th>1000</th>\n",
       "      <th>10000</th>\n",
       "      <th>100000</th>\n",
       "      <th>11</th>\n",
       "      <th>110</th>\n",
       "      <th>1100</th>\n",
       "      <th>11000</th>\n",
       "      <th>...</th>\n",
       "      <th>yell</th>\n",
       "      <th>yelled</th>\n",
       "      <th>yelling</th>\n",
       "      <th>yes</th>\n",
       "      <th>yesterday</th>\n",
       "      <th>young</th>\n",
       "      <th>yr</th>\n",
       "      <th>yrs</th>\n",
       "      <th>zero</th>\n",
       "      <th>zip</th>\n",
       "    </tr>\n",
       "  </thead>\n",
       "  <tbody>\n",
       "    <tr>\n",
       "      <th>0</th>\n",
       "      <td>0.0</td>\n",
       "      <td>0.0</td>\n",
       "      <td>0.000000</td>\n",
       "      <td>0.0</td>\n",
       "      <td>0.0</td>\n",
       "      <td>0.0</td>\n",
       "      <td>0.0</td>\n",
       "      <td>0.0</td>\n",
       "      <td>0.0</td>\n",
       "      <td>0.0</td>\n",
       "      <td>...</td>\n",
       "      <td>0.0</td>\n",
       "      <td>0.0</td>\n",
       "      <td>0.0</td>\n",
       "      <td>0.0</td>\n",
       "      <td>0.0</td>\n",
       "      <td>0.0</td>\n",
       "      <td>0.0</td>\n",
       "      <td>0.0</td>\n",
       "      <td>0.0</td>\n",
       "      <td>0.0</td>\n",
       "    </tr>\n",
       "    <tr>\n",
       "      <th>1</th>\n",
       "      <td>0.0</td>\n",
       "      <td>0.0</td>\n",
       "      <td>0.000000</td>\n",
       "      <td>0.0</td>\n",
       "      <td>0.0</td>\n",
       "      <td>0.0</td>\n",
       "      <td>0.0</td>\n",
       "      <td>0.0</td>\n",
       "      <td>0.0</td>\n",
       "      <td>0.0</td>\n",
       "      <td>...</td>\n",
       "      <td>0.0</td>\n",
       "      <td>0.0</td>\n",
       "      <td>0.0</td>\n",
       "      <td>0.0</td>\n",
       "      <td>0.0</td>\n",
       "      <td>0.0</td>\n",
       "      <td>0.0</td>\n",
       "      <td>0.0</td>\n",
       "      <td>0.0</td>\n",
       "      <td>0.0</td>\n",
       "    </tr>\n",
       "    <tr>\n",
       "      <th>2</th>\n",
       "      <td>0.0</td>\n",
       "      <td>0.0</td>\n",
       "      <td>0.051047</td>\n",
       "      <td>0.0</td>\n",
       "      <td>0.0</td>\n",
       "      <td>0.0</td>\n",
       "      <td>0.0</td>\n",
       "      <td>0.0</td>\n",
       "      <td>0.0</td>\n",
       "      <td>0.0</td>\n",
       "      <td>...</td>\n",
       "      <td>0.0</td>\n",
       "      <td>0.0</td>\n",
       "      <td>0.0</td>\n",
       "      <td>0.0</td>\n",
       "      <td>0.0</td>\n",
       "      <td>0.0</td>\n",
       "      <td>0.0</td>\n",
       "      <td>0.0</td>\n",
       "      <td>0.0</td>\n",
       "      <td>0.0</td>\n",
       "    </tr>\n",
       "    <tr>\n",
       "      <th>3</th>\n",
       "      <td>0.0</td>\n",
       "      <td>0.0</td>\n",
       "      <td>0.000000</td>\n",
       "      <td>0.0</td>\n",
       "      <td>0.0</td>\n",
       "      <td>0.0</td>\n",
       "      <td>0.0</td>\n",
       "      <td>0.0</td>\n",
       "      <td>0.0</td>\n",
       "      <td>0.0</td>\n",
       "      <td>...</td>\n",
       "      <td>0.0</td>\n",
       "      <td>0.0</td>\n",
       "      <td>0.0</td>\n",
       "      <td>0.0</td>\n",
       "      <td>0.0</td>\n",
       "      <td>0.0</td>\n",
       "      <td>0.0</td>\n",
       "      <td>0.0</td>\n",
       "      <td>0.0</td>\n",
       "      <td>0.0</td>\n",
       "    </tr>\n",
       "    <tr>\n",
       "      <th>4</th>\n",
       "      <td>0.0</td>\n",
       "      <td>0.0</td>\n",
       "      <td>0.000000</td>\n",
       "      <td>0.0</td>\n",
       "      <td>0.0</td>\n",
       "      <td>0.0</td>\n",
       "      <td>0.0</td>\n",
       "      <td>0.0</td>\n",
       "      <td>0.0</td>\n",
       "      <td>0.0</td>\n",
       "      <td>...</td>\n",
       "      <td>0.0</td>\n",
       "      <td>0.0</td>\n",
       "      <td>0.0</td>\n",
       "      <td>0.0</td>\n",
       "      <td>0.0</td>\n",
       "      <td>0.0</td>\n",
       "      <td>0.0</td>\n",
       "      <td>0.0</td>\n",
       "      <td>0.0</td>\n",
       "      <td>0.0</td>\n",
       "    </tr>\n",
       "  </tbody>\n",
       "</table>\n",
       "<p>5 rows × 5093 columns</p>\n",
       "</div>"
      ],
      "text/plain": [
       "   000   10       100  1000  10000  100000   11  110  1100  11000 ...   yell  \\\n",
       "0  0.0  0.0  0.000000   0.0    0.0     0.0  0.0  0.0   0.0    0.0 ...    0.0   \n",
       "1  0.0  0.0  0.000000   0.0    0.0     0.0  0.0  0.0   0.0    0.0 ...    0.0   \n",
       "2  0.0  0.0  0.051047   0.0    0.0     0.0  0.0  0.0   0.0    0.0 ...    0.0   \n",
       "3  0.0  0.0  0.000000   0.0    0.0     0.0  0.0  0.0   0.0    0.0 ...    0.0   \n",
       "4  0.0  0.0  0.000000   0.0    0.0     0.0  0.0  0.0   0.0    0.0 ...    0.0   \n",
       "\n",
       "   yelled  yelling  yes  yesterday  young   yr  yrs  zero  zip  \n",
       "0     0.0      0.0  0.0        0.0    0.0  0.0  0.0   0.0  0.0  \n",
       "1     0.0      0.0  0.0        0.0    0.0  0.0  0.0   0.0  0.0  \n",
       "2     0.0      0.0  0.0        0.0    0.0  0.0  0.0   0.0  0.0  \n",
       "3     0.0      0.0  0.0        0.0    0.0  0.0  0.0   0.0  0.0  \n",
       "4     0.0      0.0  0.0        0.0    0.0  0.0  0.0   0.0  0.0  \n",
       "\n",
       "[5 rows x 5093 columns]"
      ]
     },
     "execution_count": 71,
     "metadata": {},
     "output_type": "execute_result"
    }
   ],
   "source": [
    "table.head()"
   ]
  },
  {
   "cell_type": "code",
   "execution_count": 72,
   "metadata": {
    "collapsed": false
   },
   "outputs": [
    {
     "data": {
      "image/png": "[encoded data removed]",
      "text/plain": [
       "<matplotlib.figure.Figure at 0x11c278350>"
      ]
     },
     "metadata": {},
     "output_type": "display_data"
    }
   ],
   "source": [
    "plot_importance(rf,table,max_features=10)\n",
    "plt.rcParams.update({'font.size':20})"
   ]
  },
  {
   "cell_type": "code",
   "execution_count": 73,
   "metadata": {
    "collapsed": true
   },
   "outputs": [],
   "source": [
    "from sklearn.linear_model import SGDClassifier\n"
   ]
  },
  {
   "cell_type": "code",
   "execution_count": 74,
   "metadata": {
    "collapsed": true
   },
   "outputs": [],
   "source": [
    "sdgc=SGDClassifier(loss='log')"
   ]
  },
  {
   "cell_type": "code",
   "execution_count": 75,
   "metadata": {
    "collapsed": false
   },
   "outputs": [
    {
     "data": {
      "text/plain": [
       "SGDClassifier(alpha=0.0001, average=False, class_weight=None, epsilon=0.1,\n",
       "       eta0=0.0, fit_intercept=True, l1_ratio=0.15,\n",
       "       learning_rate='optimal', loss='log', n_iter=5, n_jobs=1,\n",
       "       penalty='l2', power_t=0.5, random_state=None, shuffle=True,\n",
       "       verbose=0, warm_start=False)"
      ]
     },
     "execution_count": 75,
     "metadata": {},
     "output_type": "execute_result"
    }
   ],
   "source": [
    "sdgc.fit(word_matrix_train,y_train)"
   ]
  },
  {
   "cell_type": "code",
   "execution_count": 76,
   "metadata": {
    "collapsed": false
   },
   "outputs": [
    {
     "data": {
      "text/plain": [
       "0.63555354871168745"
      ]
     },
     "execution_count": 76,
     "metadata": {},
     "output_type": "execute_result"
    }
   ],
   "source": [
    "skm.roc_auc_score(y_test,sdgc.predict_proba(word_matrix_test)[:,1])"
   ]
  },
  {
   "cell_type": "code",
   "execution_count": 85,
   "metadata": {
    "collapsed": false
   },
   "outputs": [
    {
     "data": {
      "text/plain": [
       "[<matplotlib.lines.Line2D at 0x11b223a10>]"
      ]
     },
     "execution_count": 85,
     "metadata": {},
     "output_type": "execute_result"
    },
    {
     "data": {
      "image/png": "[encoded data removed]",
      "text/plain": [
       "<matplotlib.figure.Figure at 0x1233274d0>"
      ]
     },
     "metadata": {},
     "output_type": "display_data"
    }
   ],
   "source": [
    "from sklearn import metrics\n",
    "fpr, tpr, thresholds = metrics.roc_curve(y_test, sdgc.predict_proba(word_matrix_test)[:,1])\n",
    "plt.hold(True)\n",
    "plt.plot(fpr, tpr,Label='Hello')"
   ]
  },
  {
   "cell_type": "code",
   "execution_count": null,
   "metadata": {
    "collapsed": true
   },
   "outputs": [],
   "source": []
  }
 ],
 "metadata": {
  "anaconda-cloud": {},
  "kernelspec": {
   "display_name": "Python [Root]",
   "language": "python",
   "name": "Python [Root]"
  },
  "language_info": {
   "codemirror_mode": {
    "name": "ipython",
    "version": 2
   },
   "file_extension": ".py",
   "mimetype": "text/x-python",
   "name": "python",
   "nbconvert_exporter": "python",
   "pygments_lexer": "ipython2",
   "version": "2.7.12"
  }
 },
 "nbformat": 4,
 "nbformat_minor": 0
}
